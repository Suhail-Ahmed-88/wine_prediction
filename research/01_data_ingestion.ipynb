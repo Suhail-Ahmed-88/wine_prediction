{
 "cells": [
  {
   "cell_type": "code",
   "execution_count": 19,
   "metadata": {},
   "outputs": [],
   "source": [
    "import os"
   ]
  },
  {
   "cell_type": "code",
   "execution_count": 20,
   "metadata": {},
   "outputs": [
    {
     "data": {
      "text/plain": [
       "'e:\\\\ML_Projects'"
      ]
     },
     "execution_count": 20,
     "metadata": {},
     "output_type": "execute_result"
    }
   ],
   "source": [
    "%pwd"
   ]
  },
  {
   "cell_type": "code",
   "execution_count": 21,
   "metadata": {},
   "outputs": [],
   "source": [
    "os.chdir(\"../\")"
   ]
  },
  {
   "cell_type": "code",
   "execution_count": 22,
   "metadata": {},
   "outputs": [
    {
     "data": {
      "text/plain": [
       "'e:\\\\'"
      ]
     },
     "execution_count": 22,
     "metadata": {},
     "output_type": "execute_result"
    }
   ],
   "source": [
    "%pwd"
   ]
  },
  {
   "cell_type": "code",
   "execution_count": null,
   "metadata": {},
   "outputs": [],
   "source": [
    "# config entity\n",
    "\n",
    "from dataclasses import dataclass\n",
    "from pathlib import Path\n",
    "\n",
    "\n",
    "@dataclass(frozen=True)\n",
    "class DataIngestionConfig:\n",
    "    root_dir: Path\n",
    "    source_URL: str\n",
    "    local_data_file: Path\n",
    "    unzip_dir: Path"
   ]
  },
  {
   "cell_type": "code",
   "execution_count": null,
   "metadata": {},
   "outputs": [],
   "source": [
    "# configuration \n",
    "from src.wine.constants import *\n",
    "from src.wine.utils.common import read_yaml, create_directories\n",
    "\n",
    "class ConfigurationManager:\n",
    "    def __init__(\n",
    "        self,\n",
    "        config_filepath = CONFIG_FILE_PATH,\n",
    "        params_filepath = PARAMS_FILE_PATH,\n",
    "        schema_filepath = SCHEMA_FILE_PATH):\n",
    "\n",
    "        self.config = read_yaml(config_filepath)\n",
    "        self.params = read_yaml(params_filepath)\n",
    "        self.schema = read_yaml(schema_filepath)\n",
    "\n",
    "        create_directories([self.config.artifacts_root])\n",
    "\n",
    "\n",
    "    \n",
    "    def get_data_ingestion_config(self) -> DataIngestionConfig:\n",
    "        config = self.config.data_ingestion\n",
    "\n",
    "        create_directories([config.root_dir])\n",
    "\n",
    "        data_ingestion_config = DataIngestionConfig(\n",
    "            root_dir=config.root_dir,\n",
    "            source_URL=config.source_URL,\n",
    "            local_data_file=config.local_data_file,\n",
    "            unzip_dir=config.unzip_dir \n",
    "        )\n",
    "\n",
    "        return data_ingestion_config"
   ]
  },
  {
   "cell_type": "code",
   "execution_count": null,
   "metadata": {},
   "outputs": [],
   "source": [
    "\n",
    "import os\n",
    "import zipfile\n",
    "import logging\n",
    "import urllib.request as request\n",
    "from src.wine import logger\n",
    "from src.wine.utils.common import get_size\n",
    "from pathlib import Path\n",
    "\n",
    "# Assuming DataIngestionConfig is defined elsewhere\n",
    "class DataIngestion:\n",
    "    def __init__(self, config: DataIngestionConfig):\n",
    "        self.config = config\n",
    "        self.logger = logging.getLogger(__name__)  # Initialize logger\n",
    "\n",
    "    def download_file(self):\n",
    "        if not os.path.exists(self.config.local_data_file):\n",
    "            filename, headers = request.urlretrieve(\n",
    "                url=self.config.source_URL,\n",
    "                filename=self.config.local_data_file\n",
    "            )\n",
    "            self.logger.info(f\"{filename} downloaded! with the following info: \\n{headers}\")\n",
    "        else:\n",
    "            self.logger.info(f\"File already exists of size: {get_size(Path(self.config.local_data_file))}\")\n",
    "\n",
    "    def extract_zip_file(self):\n",
    "        \"\"\"\n",
    "        Extracts the ZIP file specified in the config to the designated directory.\n",
    "        \"\"\"\n",
    "        zip_file_path = self.config.local_data_file\n",
    "        extract_to = self.config.unzip_dir\n",
    "        \n",
    "        try:\n",
    "            # Check if the file exists\n",
    "            if not os.path.exists(zip_file_path):\n",
    "                raise ValueError(f\"The file {zip_file_path} does not exist.\")\n",
    "\n",
    "            # Check if the file is a valid ZIP file\n",
    "            if not zipfile.is_zipfile(zip_file_path):\n",
    "                raise ValueError(f\"The file {zip_file_path} is not a valid ZIP file.\")\n",
    "\n",
    "            # Create the extraction directory if it doesn't exist\n",
    "            os.makedirs(extract_to, exist_ok=True)\n",
    "\n",
    "            # Extract the ZIP file\n",
    "            with zipfile.ZipFile(zip_file_path, 'r') as zip_ref:\n",
    "                zip_ref.extractall(extract_to)\n",
    "            \n",
    "            self.logger.info(f\"Successfully extracted {zip_file_path} to {extract_to}\")\n",
    "\n",
    "        except Exception as e:\n",
    "            self.logger.error(f\"An error occurred while extracting the ZIP file: {e}\")\n",
    "\n",
    "# Example usage:\n",
    "# config = DataIngestionConfig(source_URL='http://example.com/data.zip', local_data_file='data.zip', unzip_dir='extracted_data')\n",
    "# data_ingestion = DataIngestion(config)\n",
    "# data_ingestion.download_file()\n",
    "# data_ingestion.extract_zip_file()\n"
   ]
  },
  {
   "cell_type": "code",
   "execution_count": null,
   "metadata": {},
   "outputs": [
    {
     "name": "stdout",
     "output_type": "stream",
     "text": [
      "[2024-11-17 03:47:35,482] INFO: common: yaml file: E:\\ML_Projects\\Wine_Prediction_Project\\config\\config.yaml loaded successfully]\n",
      "[2024-11-17 03:47:35,489] INFO: common: yaml file: E:\\ML_Projects\\Wine_Prediction_Project\\params.yaml loaded successfully]\n",
      "[2024-11-17 03:47:35,493] INFO: common: yaml file: E:\\ML_Projects\\Wine_Prediction_Project\\schema.yaml loaded successfully]\n",
      "[2024-11-17 03:47:35,497] INFO: common: created directory at: artifacts]\n",
      "[2024-11-17 03:47:35,501] INFO: common: created directory at: artifacts/data_ingestion]\n",
      "[2024-11-17 03:47:37,250] INFO: 2359738225: artifacts/data_ingestion/data.zip downloaded! with the following info: \n",
      "Connection: close\n",
      "Content-Length: 23329\n",
      "Cache-Control: max-age=300\n",
      "Content-Security-Policy: default-src 'none'; style-src 'unsafe-inline'; sandbox\n",
      "Content-Type: application/zip\n",
      "ETag: \"c69888a4ae59bc5a893392785a938ccd4937981c06ba8a9d6a21aa52b4ab5b6e\"\n",
      "Strict-Transport-Security: max-age=31536000\n",
      "X-Content-Type-Options: nosniff\n",
      "X-Frame-Options: deny\n",
      "X-XSS-Protection: 1; mode=block\n",
      "X-GitHub-Request-Id: 5117:33EAA3:44531C:51E77B:6738F3DF\n",
      "Accept-Ranges: bytes\n",
      "Date: Sat, 16 Nov 2024 19:47:39 GMT\n",
      "Via: 1.1 varnish\n",
      "X-Served-By: cache-tyo11940-TYO\n",
      "X-Cache: HIT\n",
      "X-Cache-Hits: 0\n",
      "X-Timer: S1731786459.015097,VS0,VE208\n",
      "Vary: Authorization,Accept-Encoding,Origin\n",
      "Access-Control-Allow-Origin: *\n",
      "Cross-Origin-Resource-Policy: cross-origin\n",
      "X-Fastly-Request-ID: 87a97b85a5be7bf1b3bc54dec8171cf6d36b2f04\n",
      "Expires: Sat, 16 Nov 2024 19:52:39 GMT\n",
      "Source-Age: 0\n",
      "\n",
      "]\n",
      "[2024-11-17 03:47:37,484] INFO: 2359738225: Successfully extracted artifacts/data_ingestion/data.zip to artifacts/data_ingestion]\n"
     ]
    }
   ],
   "source": [
    "# pipeline\n",
    "try:\n",
    "    config = ConfigurationManager()\n",
    "    data_ingestion_config = config.get_data_ingestion_config()\n",
    "    data_ingestion = DataIngestion(config=data_ingestion_config)\n",
    "    data_ingestion.download_file()\n",
    "    data_ingestion.extract_zip_file()\n",
    "except Exception as e:\n",
    "    raise e"
   ]
  },
  {
   "cell_type": "code",
   "execution_count": null,
   "metadata": {},
   "outputs": [],
   "source": []
  }
 ],
 "metadata": {
  "kernelspec": {
   "display_name": "Python 3",
   "language": "python",
   "name": "python3"
  },
  "language_info": {
   "codemirror_mode": {
    "name": "ipython",
    "version": 3
   },
   "file_extension": ".py",
   "mimetype": "text/x-python",
   "name": "python",
   "nbconvert_exporter": "python",
   "pygments_lexer": "ipython3",
   "version": "3.13.0"
  },
  "orig_nbformat": 4
 },
 "nbformat": 4,
 "nbformat_minor": 2
}
